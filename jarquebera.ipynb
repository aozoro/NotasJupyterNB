{
 "cells": [
  {
   "cell_type": "markdown",
   "metadata": {},
   "source": [
    "# Curso de Métodos Cuantitativos: Jarque-Bera\n",
    "__autor: Omar de la Sota__\n",
    "\n",
    "__correo: aozoro@gmail.com__"
   ]
  },
  {
   "cell_type": "markdown",
   "metadata": {},
   "source": [
    "## Momentos respecto al origen\n",
    "Dada una muestra aleatoria de tamaño $n$ el momento muestral $r$-ésimo se calcula mediante\n",
    "$$\\hat{m}_{r}=\\frac{1}{n} \\sum_{i=1}^{n} x_{i}^{r} $$\n",
    "\n",
    "donde el momento $\\hat{m}_{1}$ corresponde a la media $\\bar{x}$."
   ]
  },
  {
   "cell_type": "code",
   "execution_count": 1,
   "metadata": {},
   "outputs": [],
   "source": [
    "#momentos respecto al origen\n",
    "momentoOrigen <- function(x,r=1){\n",
    "  n <- length(x)\n",
    "  suma <- 0\n",
    "  for (ii in 1:n) {\n",
    "     suma <- suma+(x[ii])^r\n",
    "  }\n",
    "  return(round(suma/n,12))\n",
    "}"
   ]
  },
  {
   "cell_type": "code",
   "execution_count": 2,
   "metadata": {},
   "outputs": [
    {
     "data": {
      "text/html": [
       "2"
      ],
      "text/latex": [
       "2"
      ],
      "text/markdown": [
       "2"
      ],
      "text/plain": [
       "[1] 2"
      ]
     },
     "metadata": {},
     "output_type": "display_data"
    },
    {
     "data": {
      "text/html": [
       "4.666666666667"
      ],
      "text/latex": [
       "4.666666666667"
      ],
      "text/markdown": [
       "4.666666666667"
      ],
      "text/plain": [
       "[1] 4.666667"
      ]
     },
     "metadata": {},
     "output_type": "display_data"
    }
   ],
   "source": [
    "#ejemplo: el promedio de 1,2,3 deberia salir 2 y su segundo momento central es el promedio de 1,4,9 que sería 14/3\n",
    "\n",
    "a <- c(1,2,3)\n",
    "momentoOrigen(a,1)\n",
    "momentoOrigen(a,2)"
   ]
  },
  {
   "cell_type": "markdown",
   "metadata": {},
   "source": [
    "## Momentos respecto a la media\n",
    "Dada una muestra aleatoria de tamaño $n$ el momento muestral $r$-ésimo se calcula mediante\n",
    "$$\\hat{\\mu}_{r}=\\frac{1}{n}\\sum_{i=1}^{n}\\left(x_{i}-\\bar{x}\\right)^{r}$$\n",
    "donde el momento $\\hat{\\mu}_{1}$ es igual a cero y $\\hat{\\mu}_{2}$ corresponde a la varianza sesgada $\\hat{\\sigma}^2$ (o asintóticamente insesgada)."
   ]
  },
  {
   "cell_type": "code",
   "execution_count": 3,
   "metadata": {},
   "outputs": [],
   "source": [
    "#momentos respecto a la media\n",
    "momentoMedia <- function(x,r=2){\n",
    "  n <- length(x)\n",
    "  media <- momentoOrigen(x,1)\n",
    "  suma <- 0\n",
    "  for (ii in 1:n) {\n",
    "    suma <- suma+(x[ii]-media)^r\n",
    "  }\n",
    "  return(round(suma/n,12))\n",
    "}"
   ]
  },
  {
   "cell_type": "code",
   "execution_count": 4,
   "metadata": {},
   "outputs": [
    {
     "data": {
      "text/html": [
       "0"
      ],
      "text/latex": [
       "0"
      ],
      "text/markdown": [
       "0"
      ],
      "text/plain": [
       "[1] 0"
      ]
     },
     "metadata": {},
     "output_type": "display_data"
    },
    {
     "data": {
      "text/html": [
       "0.666666666667"
      ],
      "text/latex": [
       "0.666666666667"
      ],
      "text/markdown": [
       "0.666666666667"
      ],
      "text/plain": [
       "[1] 0.6666667"
      ]
     },
     "metadata": {},
     "output_type": "display_data"
    }
   ],
   "source": [
    "# ejemplo: las desviaciones son -1,0,1 su primero momento es 0 y el segundo será 2/3\n",
    "a <- c(1,2,3)\n",
    "momentoMedia(a,1)\n",
    "momentoMedia(a,2)"
   ]
  },
  {
   "cell_type": "markdown",
   "metadata": {},
   "source": [
    "## Test de Jarque-Bera\n",
    "\n",
    "La prueba de Jarque-Bera es una prueba de bondad de ajuste para comprobar si una muestra de datos tiene la asimetría y la curtosis de una distribución normal. El estadistico $JB$ se define como\n",
    "\n",
    "$$JB=\\frac{n}{6}\\left(S^{2}+\\frac{1}{4}(K-3)^{2}\\right)$$\n",
    "\n",
    "donde\n",
    "\n",
    "n es el número de observaciones, $S$ es una medida de asimetría medida como \n",
    "$$S=\\frac{\\hat{\\mu}_{3}}{\\hat{\\mu}_{2}^{3/2}}=\\frac{\\frac{1}{n}\\sum_{i=1}^{n}\\left(x_{i}-\\bar{x}\\right)^{3}}{\\left(\\frac{1}{n}\\sum_{i=1}^{n}\\left(x_{i}-\\bar{x}\\right)^{2}\\right)^{3/2}}$$\n",
    "\n",
    "y $K$ es una medida de curtosis medida como\n",
    "$$K=\\frac{\\hat{\\mu}_{4}}{\\hat{\\mu}_{2}^{2}}=\\frac{\\frac{1}{n}\\sum_{i=1}^{n}\\left(x_{i}-\\bar{x}\\right)^{4}}{\\left(\\frac{1}{n}\\sum_{i=1}^{n}\\left(x_{i}-\\bar{x}\\right)^{2}\\right)^{2}}$$\n",
    "\n",
    "Jarque & Bera (1980) demostraron que el estadistico $JB$ se distribuye asintóticamente como una distribución chi cuadrado con dos grados de libertad y puede usarse para probar la hipótesis nula de que las observaciones pertenecen a una distribución normal. "
   ]
  },
  {
   "cell_type": "code",
   "execution_count": 5,
   "metadata": {},
   "outputs": [],
   "source": [
    "#estadistico JB y su pvalue\n",
    "JarqueBera <-function(x){\n",
    "  n <- length(x)\n",
    "  \n",
    "  mu2 <- momentoMedia(x,2)\n",
    "  mu3 <- momentoMedia(x,3)\n",
    "  mu4 <- momentoMedia(x,4)\n",
    "  \n",
    "  S <- mu3/(mu2^(3/2))\n",
    "  K <- mu4/(mu2^2)\n",
    "  \n",
    "  JB <- (n/6)*(S^2+(K-3)^2/4)\n",
    "  pvalue<-1-pchisq(JB,2)\n",
    "  return(list(\"statJB\"=JB,\"pvalue\"=pvalue))\n",
    "}"
   ]
  },
  {
   "cell_type": "code",
   "execution_count": 6,
   "metadata": {},
   "outputs": [],
   "source": [
    "#ejemplo \n",
    "\n",
    "#Primero creamos 1000 números aleatorios uniformes entre 0 y 1 \n",
    "n <- 1000\n",
    "vectorUnif <- runif(n)\n",
    "\n",
    "#usamos la función inversa de la normal para obtener 1000 números aleatorios de media 10 y varianza 9\n",
    "vectorNorm <- qnorm(vectorUnif,mean=10,sd=3)\n"
   ]
  },
  {
   "cell_type": "code",
   "execution_count": 7,
   "metadata": {},
   "outputs": [
    {
     "data": {
      "text/plain": [
       "   Min. 1st Qu.  Median    Mean 3rd Qu.    Max. \n",
       " -1.111   8.016  10.157  10.104  12.062  19.674 "
      ]
     },
     "metadata": {},
     "output_type": "display_data"
    }
   ],
   "source": [
    "#mostramos algunos estadísticos\n",
    "summary(vectorNorm)"
   ]
  },
  {
   "cell_type": "code",
   "execution_count": 8,
   "metadata": {},
   "outputs": [
    {
     "data": {
      "text/html": [
       "<dl>\n",
       "\t<dt>$statJB</dt>\n",
       "\t\t<dd>0.177917605922537</dd>\n",
       "\t<dt>$pvalue</dt>\n",
       "\t\t<dd>0.914883263279327</dd>\n",
       "</dl>\n"
      ],
      "text/latex": [
       "\\begin{description}\n",
       "\\item[\\$statJB] 0.177917605922537\n",
       "\\item[\\$pvalue] 0.914883263279327\n",
       "\\end{description}\n"
      ],
      "text/markdown": [
       "$statJB\n",
       ":   0.177917605922537\n",
       "$pvalue\n",
       ":   0.914883263279327\n",
       "\n",
       "\n"
      ],
      "text/plain": [
       "$statJB\n",
       "[1] 0.1779176\n",
       "\n",
       "$pvalue\n",
       "[1] 0.9148833\n"
      ]
     },
     "metadata": {},
     "output_type": "display_data"
    }
   ],
   "source": [
    "#Mostramos su estadistico Jarque-Bera y pvalue\n",
    "\n",
    "JarqueBera(vectorNorm)"
   ]
  },
  {
   "cell_type": "code",
   "execution_count": 9,
   "metadata": {},
   "outputs": [
    {
     "data": {
      "text/html": [
       "5.99146454710798"
      ],
      "text/latex": [
       "5.99146454710798"
      ],
      "text/markdown": [
       "5.99146454710798"
      ],
      "text/plain": [
       "[1] 5.991465"
      ]
     },
     "metadata": {},
     "output_type": "display_data"
    }
   ],
   "source": [
    "#sabemos que el chi crítico es a un 95% de confianza\n",
    "qchisq(0.95,df=2)"
   ]
  },
  {
   "cell_type": "markdown",
   "metadata": {},
   "source": [
    "## Elipsis de confianza del estadístico JB\n",
    "Sea $q$ el valor crítico elegido a partir del cual se empieza a rechazar la hipotesis nula de normalidad. Entonces\n",
    "$$\\frac{n}{6}\\left(S^{2}+\\frac{1}{4}(K-3)^{2}\\right) < q$$\n",
    "\n",
    "formando una función conocida\n",
    "$$\\frac{S^{2}}{6q\\,/n}+\\frac{(K-3)^{2}}{24q\\,/n}<1$$\n",
    "\n",
    "la cual representa una elipse centrada en el origen\n",
    "$$\\frac{x^{2}}{a^{2}}+\\frac{y^{2}}{b^{2}}=1$$\n",
    "\n",
    "Esta centrado en S=0 y K=3, es decir, según un distribución normal. Donde $a=\\sqrt{6q/n}$ y $b=\\sqrt{24q/n}$ representan los semiejes de la elipse. Todos los puntos dentro de la elipsis serán distribuciones normales según el test de Jarque-Bera."
   ]
  },
  {
   "cell_type": "code",
   "execution_count": 10,
   "metadata": {},
   "outputs": [],
   "source": [
    "#elipsis de confianza de JB\n",
    "n <- 1000\n",
    "conf <- 0.95\n",
    "\n",
    "q <- qchisq(conf,df=2)\n",
    "\n",
    "a <-  sqrt(6*q/n)\n",
    "b <-  sqrt(24*q/n)\n",
    "\n",
    "\n",
    "dominio1 <-seq(-a,a,length.out = 200)\n",
    "rango1 <- b*(1-dominio1^2/a^2)^0.5\n",
    "\n",
    "#contorno\n",
    "dominio <- c(dominio1,dominio1[200:1])\n",
    "rango <- c (rango1, -rango1[200:1])\n",
    "\n",
    "x <- runif(100,-a,a)\n",
    "y <- runif(100,-b,b)\n",
    "data <- data.frame(\"y\"=y,\"x\"=x)\n",
    "\n",
    "#simulación\n",
    "data_sub <- subset(data, x^2/a^2+y^2/b^2 < 1)"
   ]
  },
  {
   "cell_type": "markdown",
   "metadata": {},
   "source": [
    "En el gráfico, vemos que a la izquierda del eje-$y$ donde los valores de $x$ son negativos significan asimetria hacia la izquierda y la derecha del eje-$y$ signifcan asimetria a la derecha. \n",
    "\n",
    "De manera análoga arriba del eje-$x$ quiere decir que $K>3$, es decir, es leptocúrtica y si esta abajo del eje-$x$ es platicúrtica.\n",
    "\n",
    "La elipse indica la tolerancia de de asimetria y curtosis para seguir siendo considera una distribución normal"
   ]
  },
  {
   "cell_type": "code",
   "execution_count": 11,
   "metadata": {},
   "outputs": [
    {
     "name": "stderr",
     "output_type": "stream",
     "text": [
      "Loading required package: carData\n"
     ]
    },
    {
     "data": {
      "image/png": "[encoded data removed]",
      "text/plain": [
       "plot without title"
      ]
     },
     "metadata": {},
     "output_type": "display_data"
    }
   ],
   "source": [
    "#gráfico\n",
    "library(\"car\")\n",
    "\n",
    "par(new=FALSE)\n",
    "plot(dominio,rango, type=\"l\",asp=1,axes=FALSE,xlab=\"\",ylab=\"\",xlim = c(-1,1), ylim = c(-0.4,0.4))\n",
    "par(new=TRUE)\n",
    "scatterplot(y~x, regLine=FALSE, smooth=FALSE,xlab=\"\",ylab=\"\", boxplots=FALSE, data=data_sub,asp=1,cex=0.6,xlim = c(-1,1), ylim = c(-0.4,0.4))\n",
    "\n",
    "mtext(c(\"Platicúrtica\", \"Asim. Izq.\", \"Leptocúrtica\", \"Asim. Der.\"),\n",
    "side = c(1, 2, 3, 4), col = \"black\", line = c(2,2,0.5,0.5), cex = 1)"
   ]
  },
  {
   "cell_type": "markdown",
   "metadata": {},
   "source": [
    "El área de un elipse es \n",
    "$$S=\\pi * a * b$$\n",
    "en esta aplicación\n",
    "$$ S= \\sqrt{\\frac{144q^2}{n^2}}$$\n",
    "así\n",
    "$$ S= \\frac{12q}{n}$$\n",
    "\n",
    "es decir, mientras aumente el nivel de confianza, aumentará el área, es decir habrá más tolerancia. Y mientras más aumente el tamaño de la muestra habrá menos tolerancia. \n",
    "\n",
    "También podemos destacar que \n",
    "$$\n",
    "\\frac{a}{b}=\\frac{\\sqrt{6q\\,/n}}{\\sqrt{24q\\,/n}}=\\frac{1}{2}\n",
    "$$\n",
    "\n",
    "la razón de los semiejes siempre será de 1 a 2 independimente del nivel de confianza y el tamaño de muestra. También podemos notar que el test de Jarque-Bera tolera más la curtosis que la asimetría."
   ]
  }
 ],
 "metadata": {
  "kernelspec": {
   "display_name": "R",
   "language": "R",
   "name": "ir"
  },
  "language_info": {
   "codemirror_mode": "r",
   "file_extension": ".r",
   "mimetype": "text/x-r-source",
   "name": "R",
   "pygments_lexer": "r",
   "version": "3.5.3"
  }
 },
 "nbformat": 4,
 "nbformat_minor": 2
}
